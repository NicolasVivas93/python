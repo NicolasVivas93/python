{
 "cells": [
  {
   "cell_type": "code",
   "execution_count": 2,
   "id": "14b34365",
   "metadata": {
    "scrolled": true
   },
   "outputs": [],
   "source": [
    "from selenium import webdriver\n",
    "from selenium.webdriver.common.by import By"
   ]
  },
  {
   "cell_type": "code",
   "execution_count": 3,
   "id": "388bd04a",
   "metadata": {},
   "outputs": [],
   "source": [
    "driver = webdriver.Chrome()\n",
    "driver.get(\"https://crmciec.hostingcrm.com.ar/index.php?module=Users&action=Login\")"
   ]
  },
  {
   "cell_type": "code",
   "execution_count": 4,
   "id": "602cc396",
   "metadata": {},
   "outputs": [],
   "source": [
    "usuario = driver.find_element(by=By.NAME, value=\"user_name\")  \n",
    "usuario.send_keys('nicolas.vivas')\n",
    "\n",
    "password = driver.find_element(by=By.NAME, value=\"username_password\") \n",
    "password.send_keys('12345')"
   ]
  },
  {
   "cell_type": "code",
   "execution_count": 5,
   "id": "6fd138da",
   "metadata": {},
   "outputs": [],
   "source": [
    "submit_btn = driver.find_element(by=By.NAME, value=\"Login\")  \n",
    "submit_btn.click()"
   ]
  },
  {
   "cell_type": "code",
   "execution_count": 6,
   "id": "a0a69de0",
   "metadata": {},
   "outputs": [],
   "source": [
    "driver.find_element(By.LINK_TEXT, value=\"Crear\").click()"
   ]
  },
  {
   "cell_type": "code",
   "execution_count": 7,
   "id": "ad3292f5",
   "metadata": {},
   "outputs": [],
   "source": [
    "driver.find_element(By.LINK_TEXT, value=\"Create Expedientes\").click()"
   ]
  },
  {
   "cell_type": "code",
   "execution_count": 7,
   "id": "96969d9e",
   "metadata": {},
   "outputs": [],
   "source": [
    "#Buscar matriculado\n",
    "driver.find_element(By.ID, value=\"btn_account_name\").click()"
   ]
  },
  {
   "cell_type": "code",
   "execution_count": 8,
   "id": "9b33eed0",
   "metadata": {},
   "outputs": [],
   "source": [
    "driver.switch_to.window(driver.window_handles[1])"
   ]
  },
  {
   "cell_type": "code",
   "execution_count": 9,
   "id": "70008d47",
   "metadata": {},
   "outputs": [],
   "source": [
    "driver.find_element(By.XPATH, value='//*[@id=\"name_advanced\"]').send_keys('ANTUÑA')"
   ]
  },
  {
   "cell_type": "code",
   "execution_count": 10,
   "id": "1edd3cc2",
   "metadata": {},
   "outputs": [],
   "source": [
    "#Seleccionamos estado 'Activo'\n",
    "driver.find_element(By.XPATH, value='//*[@id=\"estado_despl_c_advanced\"]/option[1]').click()"
   ]
  },
  {
   "cell_type": "code",
   "execution_count": 11,
   "id": "d38bfa48",
   "metadata": {},
   "outputs": [],
   "source": [
    "driver.find_element(By.XPATH, value='//*[@id=\"search_form_submit\"]').click()"
   ]
  },
  {
   "cell_type": "code",
   "execution_count": 12,
   "id": "576f3211",
   "metadata": {},
   "outputs": [],
   "source": [
    "driver.find_element(By.XPATH, value='/html/body/table[4]/tbody/tr/td[2]/a').click()"
   ]
  },
  {
   "cell_type": "code",
   "execution_count": 13,
   "id": "2a7f979d",
   "metadata": {},
   "outputs": [],
   "source": [
    "driver.switch_to.window(driver.window_handles[0])"
   ]
  },
  {
   "cell_type": "code",
   "execution_count": 101,
   "id": "21e162b9",
   "metadata": {},
   "outputs": [
    {
     "data": {
      "text/plain": [
       "'https://crmciec.hostingcrm.com.ar/index.php?module=Opportunities&action=EditView&return_module=Opportunities&return_action=DetailView'"
      ]
     },
     "execution_count": 101,
     "metadata": {},
     "output_type": "execute_result"
    }
   ],
   "source": [
    "#driver.current_url"
   ]
  },
  {
   "cell_type": "code",
   "execution_count": 14,
   "id": "430743a2",
   "metadata": {},
   "outputs": [
    {
     "data": {
      "text/plain": [
       "'https://crmciec.hostingcrm.com.ar/index.php?module=KNN_comitente&action=Popup&mode=single&create=true&field_to_name[]=name'"
      ]
     },
     "execution_count": 14,
     "metadata": {},
     "output_type": "execute_result"
    }
   ],
   "source": [
    "#Vamos a seleccionar comitente\n",
    "driver.find_element(By.ID, value=\"btn_comitente_c\").click()\n",
    "driver.switch_to.window(driver.window_handles[1])\n",
    "driver.current_url"
   ]
  },
  {
   "cell_type": "code",
   "execution_count": 15,
   "id": "4ad0f9db",
   "metadata": {},
   "outputs": [],
   "source": [
    "# Buscamos Poder Judicial\n",
    "driver.find_element(By.XPATH, value='//*[@id=\"name_advanced\"]').send_keys('PODER JUDICIAL')\n",
    "driver.find_element(By.XPATH, value='//*[@id=\"search_form_submit\"]').click()"
   ]
  },
  {
   "cell_type": "code",
   "execution_count": 16,
   "id": "6d720ca6",
   "metadata": {},
   "outputs": [],
   "source": [
    "# Seleccionamos Poder Judicial\n",
    "driver.find_element(By.XPATH, value='/html/body/table[4]/tbody/tr[2]/td[2]/a').click()"
   ]
  },
  {
   "cell_type": "code",
   "execution_count": 18,
   "id": "82f5d6f4",
   "metadata": {},
   "outputs": [],
   "source": [
    "driver.switch_to.window(driver.window_handles[0])\n",
    "#driver.current_url"
   ]
  },
  {
   "cell_type": "code",
   "execution_count": 19,
   "id": "b361a9b4",
   "metadata": {},
   "outputs": [],
   "source": [
    "#Seleccionamos Pericia Judicial\n",
    "driver.find_element(By.XPATH, value='//*[@id=\"opportunity_type\"]/option[6]').click()"
   ]
  },
  {
   "cell_type": "code",
   "execution_count": 20,
   "id": "9c49e6d3",
   "metadata": {},
   "outputs": [],
   "source": [
    "#Colocamos autos\n",
    "driver.find_element(By.ID, value=\"description\").send_keys('PER.JUD.')"
   ]
  },
  {
   "cell_type": "code",
   "execution_count": 21,
   "id": "cf7818f1",
   "metadata": {},
   "outputs": [],
   "source": [
    "driver.find_element(By.XPATH, value='//*[@id=\"SAVE\"]').click()"
   ]
  },
  {
   "cell_type": "code",
   "execution_count": 28,
   "id": "62cf3504",
   "metadata": {
    "collapsed": true
   },
   "outputs": [
    {
     "ename": "NoSuchElementException",
     "evalue": "Message: no such element: Unable to locate element: {\"method\":\"xpath\",\"selector\":\"//*[@id=\"subpanel_title_opportunities_knn_tareasexpediente_1\"]/div/div\"}\n  (Session info: chrome=107.0.5304.110)\nStacktrace:\n#0 0x55d2f0aa2463 <unknown>\n#1 0x55d2f08668d8 <unknown>\n#2 0x55d2f08a443a <unknown>\n#3 0x55d2f08a4651 <unknown>\n#4 0x55d2f08e07a4 <unknown>\n#5 0x55d2f08c564d <unknown>\n#6 0x55d2f08de30f <unknown>\n#7 0x55d2f08c5443 <unknown>\n#8 0x55d2f08963c5 <unknown>\n#9 0x55d2f0897531 <unknown>\n#10 0x55d2f0af4dce <unknown>\n#11 0x55d2f0af8192 <unknown>\n#12 0x55d2f0ad993e <unknown>\n#13 0x55d2f0af9103 <unknown>\n#14 0x55d2f0accd85 <unknown>\n#15 0x55d2f0b1a0a8 <unknown>\n#16 0x55d2f0b1a239 <unknown>\n#17 0x55d2f0b35492 <unknown>\n#18 0x7f7e69222b43 <unknown>\n",
     "output_type": "error",
     "traceback": [
      "\u001b[0;31m---------------------------------------------------------------------------\u001b[0m",
      "\u001b[0;31mNoSuchElementException\u001b[0m                    Traceback (most recent call last)",
      "Cell \u001b[0;32mIn [28], line 1\u001b[0m\n\u001b[0;32m----> 1\u001b[0m \u001b[43mdriver\u001b[49m\u001b[38;5;241;43m.\u001b[39;49m\u001b[43mfind_element\u001b[49m\u001b[43m(\u001b[49m\u001b[43mBy\u001b[49m\u001b[38;5;241;43m.\u001b[39;49m\u001b[43mXPATH\u001b[49m\u001b[43m,\u001b[49m\u001b[43m \u001b[49m\u001b[43mvalue\u001b[49m\u001b[38;5;241;43m=\u001b[39;49m\u001b[38;5;124;43m'\u001b[39;49m\u001b[38;5;124;43m//*[@id=\u001b[39;49m\u001b[38;5;124;43m\"\u001b[39;49m\u001b[38;5;124;43msubpanel_title_opportunities_knn_tareasexpediente_1\u001b[39;49m\u001b[38;5;124;43m\"\u001b[39;49m\u001b[38;5;124;43m]/div/div\u001b[39;49m\u001b[38;5;124;43m'\u001b[39;49m\u001b[43m)\u001b[49m\u001b[38;5;241m.\u001b[39mtext()\n",
      "File \u001b[0;32m~/.local/lib/python3.10/site-packages/selenium/webdriver/remote/webdriver.py:861\u001b[0m, in \u001b[0;36mWebDriver.find_element\u001b[0;34m(self, by, value)\u001b[0m\n\u001b[1;32m    858\u001b[0m     by \u001b[38;5;241m=\u001b[39m By\u001b[38;5;241m.\u001b[39mCSS_SELECTOR\n\u001b[1;32m    859\u001b[0m     value \u001b[38;5;241m=\u001b[39m \u001b[38;5;124m'\u001b[39m\u001b[38;5;124m[name=\u001b[39m\u001b[38;5;124m\"\u001b[39m\u001b[38;5;132;01m%s\u001b[39;00m\u001b[38;5;124m\"\u001b[39m\u001b[38;5;124m]\u001b[39m\u001b[38;5;124m'\u001b[39m \u001b[38;5;241m%\u001b[39m value\n\u001b[0;32m--> 861\u001b[0m \u001b[38;5;28;01mreturn\u001b[39;00m \u001b[38;5;28;43mself\u001b[39;49m\u001b[38;5;241;43m.\u001b[39;49m\u001b[43mexecute\u001b[49m\u001b[43m(\u001b[49m\u001b[43mCommand\u001b[49m\u001b[38;5;241;43m.\u001b[39;49m\u001b[43mFIND_ELEMENT\u001b[49m\u001b[43m,\u001b[49m\u001b[43m \u001b[49m\u001b[43m{\u001b[49m\u001b[38;5;124;43m\"\u001b[39;49m\u001b[38;5;124;43musing\u001b[39;49m\u001b[38;5;124;43m\"\u001b[39;49m\u001b[43m:\u001b[49m\u001b[43m \u001b[49m\u001b[43mby\u001b[49m\u001b[43m,\u001b[49m\u001b[43m \u001b[49m\u001b[38;5;124;43m\"\u001b[39;49m\u001b[38;5;124;43mvalue\u001b[39;49m\u001b[38;5;124;43m\"\u001b[39;49m\u001b[43m:\u001b[49m\u001b[43m \u001b[49m\u001b[43mvalue\u001b[49m\u001b[43m}\u001b[49m\u001b[43m)\u001b[49m[\u001b[38;5;124m\"\u001b[39m\u001b[38;5;124mvalue\u001b[39m\u001b[38;5;124m\"\u001b[39m]\n",
      "File \u001b[0;32m~/.local/lib/python3.10/site-packages/selenium/webdriver/remote/webdriver.py:444\u001b[0m, in \u001b[0;36mWebDriver.execute\u001b[0;34m(self, driver_command, params)\u001b[0m\n\u001b[1;32m    442\u001b[0m response \u001b[38;5;241m=\u001b[39m \u001b[38;5;28mself\u001b[39m\u001b[38;5;241m.\u001b[39mcommand_executor\u001b[38;5;241m.\u001b[39mexecute(driver_command, params)\n\u001b[1;32m    443\u001b[0m \u001b[38;5;28;01mif\u001b[39;00m response:\n\u001b[0;32m--> 444\u001b[0m     \u001b[38;5;28;43mself\u001b[39;49m\u001b[38;5;241;43m.\u001b[39;49m\u001b[43merror_handler\u001b[49m\u001b[38;5;241;43m.\u001b[39;49m\u001b[43mcheck_response\u001b[49m\u001b[43m(\u001b[49m\u001b[43mresponse\u001b[49m\u001b[43m)\u001b[49m\n\u001b[1;32m    445\u001b[0m     response[\u001b[38;5;124m\"\u001b[39m\u001b[38;5;124mvalue\u001b[39m\u001b[38;5;124m\"\u001b[39m] \u001b[38;5;241m=\u001b[39m \u001b[38;5;28mself\u001b[39m\u001b[38;5;241m.\u001b[39m_unwrap_value(response\u001b[38;5;241m.\u001b[39mget(\u001b[38;5;124m\"\u001b[39m\u001b[38;5;124mvalue\u001b[39m\u001b[38;5;124m\"\u001b[39m, \u001b[38;5;28;01mNone\u001b[39;00m))\n\u001b[1;32m    446\u001b[0m     \u001b[38;5;28;01mreturn\u001b[39;00m response\n",
      "File \u001b[0;32m~/.local/lib/python3.10/site-packages/selenium/webdriver/remote/errorhandler.py:249\u001b[0m, in \u001b[0;36mErrorHandler.check_response\u001b[0;34m(self, response)\u001b[0m\n\u001b[1;32m    247\u001b[0m         alert_text \u001b[38;5;241m=\u001b[39m value[\u001b[38;5;124m\"\u001b[39m\u001b[38;5;124malert\u001b[39m\u001b[38;5;124m\"\u001b[39m]\u001b[38;5;241m.\u001b[39mget(\u001b[38;5;124m\"\u001b[39m\u001b[38;5;124mtext\u001b[39m\u001b[38;5;124m\"\u001b[39m)\n\u001b[1;32m    248\u001b[0m     \u001b[38;5;28;01mraise\u001b[39;00m exception_class(message, screen, stacktrace, alert_text)  \u001b[38;5;66;03m# type: ignore[call-arg]  # mypy is not smart enough here\u001b[39;00m\n\u001b[0;32m--> 249\u001b[0m \u001b[38;5;28;01mraise\u001b[39;00m exception_class(message, screen, stacktrace)\n",
      "\u001b[0;31mNoSuchElementException\u001b[0m: Message: no such element: Unable to locate element: {\"method\":\"xpath\",\"selector\":\"//*[@id=\"subpanel_title_opportunities_knn_tareasexpediente_1\"]/div/div\"}\n  (Session info: chrome=107.0.5304.110)\nStacktrace:\n#0 0x55d2f0aa2463 <unknown>\n#1 0x55d2f08668d8 <unknown>\n#2 0x55d2f08a443a <unknown>\n#3 0x55d2f08a4651 <unknown>\n#4 0x55d2f08e07a4 <unknown>\n#5 0x55d2f08c564d <unknown>\n#6 0x55d2f08de30f <unknown>\n#7 0x55d2f08c5443 <unknown>\n#8 0x55d2f08963c5 <unknown>\n#9 0x55d2f0897531 <unknown>\n#10 0x55d2f0af4dce <unknown>\n#11 0x55d2f0af8192 <unknown>\n#12 0x55d2f0ad993e <unknown>\n#13 0x55d2f0af9103 <unknown>\n#14 0x55d2f0accd85 <unknown>\n#15 0x55d2f0b1a0a8 <unknown>\n#16 0x55d2f0b1a239 <unknown>\n#17 0x55d2f0b35492 <unknown>\n#18 0x7f7e69222b43 <unknown>\n"
     ]
    }
   ],
   "source": [
    "# Iniciamos creación de Tarea de Expediente\n",
    "driver.find_element(By.XPATH, value='//*[@id=\"subpanel_title_opportunities_knn_tareasexpediente_1\"]/div/div').click()"
   ]
  },
  {
   "cell_type": "code",
   "execution_count": 27,
   "id": "92b65fa6",
   "metadata": {},
   "outputs": [],
   "source": [
    "driver.find_element(By.ID, value=\"KNN_TareasExpediente_nuevo_button\").click()"
   ]
  },
  {
   "cell_type": "code",
   "execution_count": 33,
   "id": "92acb219",
   "metadata": {},
   "outputs": [],
   "source": [
    "driver.find_element(By.XPATH, value='//*[@id=\"tipo_tarea_c\"]/option[29]').click()"
   ]
  },
  {
   "cell_type": "code",
   "execution_count": 35,
   "id": "454601d3",
   "metadata": {},
   "outputs": [],
   "source": [
    "driver.find_element(By.ID, value=\"btn_accounts_knn_tareasexpediente_1_name\").click()"
   ]
  },
  {
   "cell_type": "code",
   "execution_count": 37,
   "id": "1a722e85",
   "metadata": {},
   "outputs": [],
   "source": [
    "driver.switch_to.window(driver.window_handles[1])"
   ]
  },
  {
   "cell_type": "code",
   "execution_count": 44,
   "id": "faaa06b1",
   "metadata": {},
   "outputs": [],
   "source": [
    "driver.find_element(By.XPATH, value='//*[@id=\"name_advanced\"]').send_keys('ANTUÑA')\n",
    "driver.find_element(By.XPATH, value='//*[@id=\"estado_despl_c_advanced\"]/option[1]').click()\n",
    "driver.find_element(By.XPATH, value='//*[@id=\"search_form_submit\"]').click()"
   ]
  },
  {
   "cell_type": "code",
   "execution_count": 46,
   "id": "c8009790",
   "metadata": {},
   "outputs": [],
   "source": [
    "driver.find_element(By.XPATH, value='/html/body/table[4]/tbody/tr/td[2]/a').click()"
   ]
  },
  {
   "cell_type": "code",
   "execution_count": 51,
   "id": "ea6e6449",
   "metadata": {},
   "outputs": [
    {
     "data": {
      "text/plain": [
       "'https://crmciec.hostingcrm.com.ar/index.php'"
      ]
     },
     "execution_count": 51,
     "metadata": {},
     "output_type": "execute_result"
    }
   ],
   "source": [
    "driver.switch_to.window(driver.window_handles[0])"
   ]
  },
  {
   "cell_type": "code",
   "execution_count": 55,
   "id": "daaa8d62",
   "metadata": {},
   "outputs": [],
   "source": [
    "driver.find_element(By.XPATH, value='//*[@id=\"monto_obra\"]').send_keys('0')\n",
    "driver.find_element(By.XPATH, value='//*[@id=\"monto_honorario\"]').send_keys('40000')"
   ]
  },
  {
   "cell_type": "code",
   "execution_count": 57,
   "id": "c3176426",
   "metadata": {},
   "outputs": [],
   "source": [
    "driver.find_element(By.ID, value=\"btn_knn_comitente_knn_tareasexpediente_1_name\").click()"
   ]
  },
  {
   "cell_type": "code",
   "execution_count": 60,
   "id": "8af76abe",
   "metadata": {
    "scrolled": true
   },
   "outputs": [],
   "source": [
    "driver.switch_to.window(driver.window_handles[1])"
   ]
  },
  {
   "cell_type": "code",
   "execution_count": 66,
   "id": "26353874",
   "metadata": {},
   "outputs": [],
   "source": [
    "driver.find_element(By.XPATH, value='//*[@id=\"name_advanced\"]').send_keys('PODER JUDICIAL')\n",
    "driver.find_element(By.XPATH, value='//*[@id=\"search_form_submit\"]').click()\n",
    "driver.find_element(By.XPATH, value='/html/body/table[4]/tbody/tr[2]/td[2]/a').click()"
   ]
  },
  {
   "cell_type": "code",
   "execution_count": 70,
   "id": "6f2f7682",
   "metadata": {},
   "outputs": [],
   "source": [
    "driver.switch_to.window(driver.window_handles[0])"
   ]
  },
  {
   "cell_type": "code",
   "execution_count": 9,
   "id": "5dfe860a",
   "metadata": {},
   "outputs": [],
   "source": [
    "driver.find_element(By.XPATH, value='//*[@id=\"description\"]').clear()\n",
    "driver.find_element(By.XPATH, value='//*[@id=\"description\"]').send_keys('PER.JUD.')"
   ]
  },
  {
   "cell_type": "code",
   "execution_count": 12,
   "id": "343c5108",
   "metadata": {},
   "outputs": [],
   "source": [
    "driver.find_element(By.XPATH, value='//*[@id=\"estado_tarea_c\"]/option[1]').click()"
   ]
  },
  {
   "cell_type": "code",
   "execution_count": 8,
   "id": "054a0878",
   "metadata": {},
   "outputs": [],
   "source": [
    "driver.find_element(By.XPATH, value='//*[@id=\"obra_c\"]').send_keys('PER.JUD.')\n",
    "driver.find_element(By.XPATH, value='//*[@id=\"obra_cp\"]').send_keys('5000')\n",
    "driver.find_element(By.XPATH, value='//*[@id=\"obra_localidad\"]').send_keys('CAPITAL')\n",
    "driver.find_element(By.XPATH, value='//*[@id=\"obra_direccion\"]').send_keys('CORDOBA')"
   ]
  },
  {
   "cell_type": "code",
   "execution_count": 9,
   "id": "bea659d1",
   "metadata": {},
   "outputs": [
    {
     "data": {
      "text/plain": [
       "<selenium.webdriver.remote.webelement.WebElement (session=\"a92a13b5f46c3802fa8b23bb24dd18ed\", element=\"79793bbb-7937-4a07-bc27-42b3a0114cf0\")>"
      ]
     },
     "execution_count": 9,
     "metadata": {},
     "output_type": "execute_result"
    }
   ],
   "source": [
    "\n",
    "driver.find_element(By.XPATH, value='//*[@id=\"created_by_name\"]')"
   ]
  },
  {
   "cell_type": "code",
   "execution_count": 138,
   "id": "a975b0cb",
   "metadata": {},
   "outputs": [],
   "source": [
    "driver.quit()"
   ]
  }
 ],
 "metadata": {
  "kernelspec": {
   "display_name": "Python 3 (ipykernel)",
   "language": "python",
   "name": "python3"
  },
  "language_info": {
   "codemirror_mode": {
    "name": "ipython",
    "version": 3
   },
   "file_extension": ".py",
   "mimetype": "text/x-python",
   "name": "python",
   "nbconvert_exporter": "python",
   "pygments_lexer": "ipython3",
   "version": "3.10.7"
  },
  "vscode": {
   "interpreter": {
    "hash": "916dbcbb3f70747c44a77c7bcd40155683ae19c65e1c03b4aa3499c5328201f1"
   }
  }
 },
 "nbformat": 4,
 "nbformat_minor": 5
}
