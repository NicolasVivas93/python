{
 "cells": [
  {
   "cell_type": "code",
   "execution_count": 63,
   "id": "bd0579e9-b0f1-4086-b52d-cbe57c547fe7",
   "metadata": {},
   "outputs": [],
   "source": [
    "import os\n",
    "import time\n",
    "from selenium import webdriver\n",
    "from selenium.webdriver.chrome.options import Options as ChromeOptions\n",
    "from selenium.webdriver.common.by import By"
   ]
  },
  {
   "cell_type": "code",
   "execution_count": 131,
   "id": "162a0955-2f75-4967-a2ed-ca33da94cbce",
   "metadata": {},
   "outputs": [],
   "source": [
    "with open(\"../../OneDrive/Documentos/PERICIAS/pericias.txt\", \"r\", encoding=\"UTF-8\") as file:\n",
    "    content = list(file.readlines())"
   ]
  },
  {
   "cell_type": "code",
   "execution_count": 65,
   "id": "618697ce-9e06-4ffd-9322-5395366a11cb",
   "metadata": {
    "tags": []
   },
   "outputs": [
    {
     "name": "stdout",
     "output_type": "stream",
     "text": [
      "\n",
      "\n",
      "\n",
      "\n",
      "\n"
     ]
    }
   ],
   "source": [
    "#COMITENTE = \"PODER JUDICIAL\"\n",
    "\n",
    "perito = content[0].strip()\n",
    "pericia = content[1].strip()\n",
    "COMITENTE = \"PODER JUDICIAL\"\n",
    "print(\"\")\n",
    "\n",
    "#Bancor Tribunales\n",
    "tribunales = content[2].strip()\n",
    "pago_tribunales = float(tribunales.replace('.','').replace(',','.'))\n",
    "fecha_pago = content[3].strip()\n",
    "honor = content[4].strip()\n",
    "honorarios = float(honor.replace('.','').replace(',','.'))\n",
    "print(\"\")\n",
    "\n",
    "#Caja\n",
    "monto_caja = float(content[6].strip())\n",
    "medio_pago_caja = content[8].strip() #T/C/MP/PF/PL/RP)\n",
    "comprobante_caja = content[7].strip()\n",
    "fecha_pago_caja = content[9].strip()\n",
    "print(\"\")\n",
    "\n",
    "#Sellos\n",
    "pago_sellos = float(content[5].strip())\n",
    "\n",
    "#CBU\n",
    "cbu = int(content[10].strip())\n",
    "print(\"\")\n",
    "print(\"\")\n",
    "\n",
    "file.close()"
   ]
  },
  {
   "cell_type": "code",
   "execution_count": 66,
   "id": "33a0a88f-302a-433b-92e9-3aa42ffe53a4",
   "metadata": {},
   "outputs": [],
   "source": [
    "# Funciones de validación y cálculo de aportes\n",
    "\n",
    "def aportes5(honor):\n",
    "    if honor <= 36000:\n",
    "        arancel_5 = 1800\n",
    "        return arancel_5\n",
    "    else:\n",
    "        arancel_5 = honor * 0.05\n",
    "        return arancel_5\n",
    "\n",
    "def calculoCiec():\n",
    "    arancel_adm = 1200\n",
    "    aporte_ciec = aportes5(honorarios) + arancel_adm\n",
    "    return aporte_ciec\n",
    "\n",
    "def calculoCaja(honor):\n",
    "    aporte_caja = honor * 0.18\n",
    "    return aporte_caja\n",
    "\n",
    "def calculoSellos(honor):\n",
    "    sellos = honor * 0.012\n",
    "    bonificacion = sellos * 0.30\n",
    "    total_sellos = sellos - bonificacion \n",
    "    return total_sellos\n",
    "\n",
    "\n",
    "def validarAportesCaja(aporte_corr, aporte_prof):\n",
    "    diferencia = 0\n",
    "    if aporte_corr != aporte_prof:\n",
    "        diferencia = aporte_corr - aporte_prof\n",
    "    \n",
    "    return diferencia\n",
    "\n",
    "     \n",
    "def validarAportesSellos(sellos_corr, sellos_prof):\n",
    "    diferencia = 0\n",
    "    if sellos_corr != sellos_prof:\n",
    "        diferencia = sellos_corr - sellos_prof\n",
    "    \n",
    "    return diferencia\n",
    "\n",
    "\n",
    "def totalAPagar(tribunales,aporte_ciec):\n",
    "    calculo = tribunales - aporte_ciec\n",
    "    return calculo"
   ]
  },
  {
   "cell_type": "code",
   "execution_count": 67,
   "id": "52afb6de-3fd1-4755-9773-05f1691d348d",
   "metadata": {},
   "outputs": [],
   "source": [
    "#options = ChromeOptions()\n",
    "#options.add_argument(\"--headless\")\n",
    "#assert options.headless\n",
    "driver = webdriver.Chrome()#options=options)\n",
    "driver.get(\"https://crmciec.hostingcrm.com.ar/index.php?module=Users&action=Login\")"
   ]
  },
  {
   "cell_type": "code",
   "execution_count": 68,
   "id": "29723f0b-cbcf-45c3-be38-d24fe00ed7b3",
   "metadata": {},
   "outputs": [],
   "source": [
    "time.sleep(3)\n",
    "usuario = driver.find_element(by=By.NAME, value=\"user_name\")  \n",
    "usuario.send_keys('nicolas.vivas')\n",
    "\n",
    "password = driver.find_element(by=By.NAME, value=\"username_password\") \n",
    "password.send_keys('12345')"
   ]
  },
  {
   "cell_type": "code",
   "execution_count": 69,
   "id": "c1f58db0-1640-4c27-ae8f-cd7f706cf544",
   "metadata": {},
   "outputs": [],
   "source": [
    "submit_btn = driver.find_element(by=By.NAME, value=\"Login\")  \n",
    "submit_btn.click()"
   ]
  },
  {
   "cell_type": "code",
   "execution_count": 70,
   "id": "5320b79b-19fa-4247-a37a-64e8f98ea051",
   "metadata": {},
   "outputs": [],
   "source": [
    "time.sleep(5)\n",
    "driver.find_element(By.LINK_TEXT, value=\"Crear\").click()"
   ]
  },
  {
   "cell_type": "code",
   "execution_count": 71,
   "id": "1575d5bb-28b4-4b7a-b892-e438ba55061c",
   "metadata": {},
   "outputs": [],
   "source": [
    "driver.find_element(By.LINK_TEXT, value=\"Create Expedientes\").click()"
   ]
  },
  {
   "cell_type": "code",
   "execution_count": 72,
   "id": "66d6381f-5623-45a4-98b1-5a58deb0c973",
   "metadata": {},
   "outputs": [],
   "source": [
    "#Buscar matriculado\n",
    "driver.find_element(By.ID, value=\"btn_account_name\").click()"
   ]
  },
  {
   "cell_type": "code",
   "execution_count": 73,
   "id": "38eda195-dffe-4b60-8c4f-df13cf70790b",
   "metadata": {},
   "outputs": [],
   "source": [
    "driver.switch_to.window(driver.window_handles[1])"
   ]
  },
  {
   "cell_type": "code",
   "execution_count": 74,
   "id": "13138334-fcc9-42e1-8672-79397a7185b6",
   "metadata": {},
   "outputs": [],
   "source": [
    "driver.find_element(By.XPATH, value='//*[@id=\"name_advanced\"]').send_keys(f'{perito}')"
   ]
  },
  {
   "cell_type": "code",
   "execution_count": 75,
   "id": "05b9719b-e5c3-4eb0-8a2a-b3e471caf722",
   "metadata": {},
   "outputs": [],
   "source": [
    "#Seleccionamos estado 'Activo'\n",
    "driver.find_element(By.XPATH, value='//*[@id=\"estado_despl_c_advanced\"]/option[1]').click()"
   ]
  },
  {
   "cell_type": "code",
   "execution_count": 76,
   "id": "5d3409a1-770b-49f2-b6d2-35b890cfaca2",
   "metadata": {},
   "outputs": [],
   "source": [
    "driver.find_element(By.XPATH, value='//*[@id=\"search_form_submit\"]').click()"
   ]
  },
  {
   "cell_type": "code",
   "execution_count": 77,
   "id": "32da7c2e-5cfb-4154-8384-4fd9eca3e0f1",
   "metadata": {},
   "outputs": [],
   "source": [
    "driver.find_element(By.XPATH, value='/html/body/table[4]/tbody/tr/td[2]/a').click()"
   ]
  },
  {
   "cell_type": "code",
   "execution_count": 78,
   "id": "716d3bfe-8b01-48ac-bb11-f64fd9de7d58",
   "metadata": {},
   "outputs": [],
   "source": [
    "driver.switch_to.window(driver.window_handles[0])"
   ]
  },
  {
   "cell_type": "code",
   "execution_count": 79,
   "id": "afd217fc-a2af-4b88-b6d8-d036081e283f",
   "metadata": {},
   "outputs": [],
   "source": [
    "#Vamos a seleccionar comitente\n",
    "driver.find_element(By.ID, value=\"btn_comitente_c\").click()\n",
    "driver.switch_to.window(driver.window_handles[1])\n",
    "#driver.current_url"
   ]
  },
  {
   "cell_type": "code",
   "execution_count": 80,
   "id": "4cb379eb-ac12-4c07-b549-34b82525fdae",
   "metadata": {},
   "outputs": [],
   "source": [
    "# Buscamos Poder Judicial\n",
    "driver.find_element(By.XPATH, value='//*[@id=\"name_advanced\"]').send_keys(f'{COMITENTE}')\n",
    "driver.find_element(By.XPATH, value='//*[@id=\"search_form_submit\"]').click()"
   ]
  },
  {
   "cell_type": "code",
   "execution_count": 81,
   "id": "bf607fa5-05d1-4faa-b260-07b7503af2a6",
   "metadata": {},
   "outputs": [],
   "source": [
    "# Seleccionamos Poder Judicial\n",
    "driver.find_element(By.XPATH, value='/html/body/table[4]/tbody/tr[2]/td[2]/a').click()"
   ]
  },
  {
   "cell_type": "code",
   "execution_count": 82,
   "id": "95dd569f-ccf4-4b40-8396-a3ab2ea65d5f",
   "metadata": {},
   "outputs": [],
   "source": [
    "driver.switch_to.window(driver.window_handles[0])\n",
    "#driver.current_url"
   ]
  },
  {
   "cell_type": "code",
   "execution_count": 83,
   "id": "2a9e18d2-d398-444c-b148-eb9b8ba681c0",
   "metadata": {},
   "outputs": [],
   "source": [
    "#Seleccionamos Pericia Judicial\n",
    "driver.find_element(By.XPATH, value='//*[@id=\"opportunity_type\"]/option[6]').click()"
   ]
  },
  {
   "cell_type": "code",
   "execution_count": 84,
   "id": "c8662c29-2b4d-4fb7-ade8-22608e795d26",
   "metadata": {},
   "outputs": [],
   "source": [
    "#Colocamos autos\n",
    "driver.find_element(By.ID, value=\"description\").send_keys(f'PER.JUD.{pericia.upper()}')"
   ]
  },
  {
   "cell_type": "code",
   "execution_count": 85,
   "id": "344c797a-3257-4fe9-b231-5d844b14c303",
   "metadata": {},
   "outputs": [],
   "source": [
    "driver.find_element(By.XPATH, value='//*[@id=\"SAVE\"]').click()"
   ]
  },
  {
   "cell_type": "code",
   "execution_count": 86,
   "id": "133a4826-6129-404f-96ee-1ebcf1241db7",
   "metadata": {},
   "outputs": [],
   "source": [
    "time.sleep(7)\n",
    "# Traemos nro de expediente - probar\n",
    "try:\n",
    "    nro_expediente = driver.find_element(By.XPATH, value='//*[@id=\"fi_expe_c\"]').text\n",
    "except:\n",
    "    pass\n",
    "\n",
    "# Iniciamos creación de Tarea de Expediente\n",
    "driver.find_element(By.XPATH, value='/html/body/div[3]/div/div/ul/li[1]/div/div[1]/a/div').click()\n",
    "time.sleep(5)"
   ]
  },
  {
   "cell_type": "code",
   "execution_count": 87,
   "id": "b43790d6-abe7-471c-a748-f537cfc3f913",
   "metadata": {},
   "outputs": [],
   "source": [
    "driver.find_element(By.LINK_TEXT, value=\"Nuevo\").click()"
   ]
  },
  {
   "cell_type": "code",
   "execution_count": 88,
   "id": "2c9c6f61-79fe-48b5-8a6a-cba720785e30",
   "metadata": {},
   "outputs": [],
   "source": [
    "time.sleep(5)\n",
    "driver.find_element(By.XPATH, value='//*[@id=\"tipo_tarea_c\"]/option[29]').click()"
   ]
  },
  {
   "cell_type": "code",
   "execution_count": 89,
   "id": "4f6e3f97-ad45-4dc7-b148-d078b24596b0",
   "metadata": {},
   "outputs": [],
   "source": [
    "driver.find_element(By.ID, value=\"btn_accounts_knn_tareasexpediente_1_name\").click()"
   ]
  },
  {
   "cell_type": "code",
   "execution_count": 90,
   "id": "7f067bf3-6385-46aa-9d9a-a7c6083b4b6a",
   "metadata": {},
   "outputs": [],
   "source": [
    "driver.switch_to.window(driver.window_handles[1])"
   ]
  },
  {
   "cell_type": "code",
   "execution_count": 91,
   "id": "3b96ce81-e2de-47ed-9f3b-33fcb6be6ea8",
   "metadata": {},
   "outputs": [],
   "source": [
    "driver.find_element(By.XPATH, value='//*[@id=\"name_advanced\"]').send_keys(f'{perito}')\n",
    "driver.find_element(By.XPATH, value='//*[@id=\"estado_despl_c_advanced\"]/option[1]').click()\n",
    "driver.find_element(By.XPATH, value='//*[@id=\"search_form_submit\"]').click()"
   ]
  },
  {
   "cell_type": "code",
   "execution_count": 92,
   "id": "a153b19f-23d8-45c8-b9fa-a30048f21e36",
   "metadata": {},
   "outputs": [],
   "source": [
    "driver.find_element(By.XPATH, value='/html/body/table[4]/tbody/tr/td[2]/a').click()"
   ]
  },
  {
   "cell_type": "code",
   "execution_count": 93,
   "id": "12a9a7aa-9581-4f3d-8dd1-3ec0e6b30870",
   "metadata": {},
   "outputs": [],
   "source": [
    "driver.switch_to.window(driver.window_handles[0])"
   ]
  },
  {
   "cell_type": "code",
   "execution_count": 94,
   "id": "00a3e150-014c-47f8-b0cd-a114693eba0d",
   "metadata": {},
   "outputs": [],
   "source": [
    "driver.find_element(By.XPATH, value='//*[@id=\"monto_obra\"]').send_keys('0')\n",
    "driver.find_element(By.XPATH, value='//*[@id=\"monto_honorario\"]').send_keys(f'{honorarios}')"
   ]
  },
  {
   "cell_type": "code",
   "execution_count": 95,
   "id": "6c4c1b1e-4805-4007-96fc-4ecaf1a3b293",
   "metadata": {},
   "outputs": [],
   "source": [
    "driver.find_element(By.ID, value=\"btn_knn_comitente_knn_tareasexpediente_1_name\").click()"
   ]
  },
  {
   "cell_type": "code",
   "execution_count": 96,
   "id": "51cde203-c359-43b4-9dc0-00fab5d486d3",
   "metadata": {},
   "outputs": [],
   "source": [
    "driver.switch_to.window(driver.window_handles[1])"
   ]
  },
  {
   "cell_type": "code",
   "execution_count": 97,
   "id": "5b6de1f2-ad4f-4b9e-8803-a4f5a4608443",
   "metadata": {},
   "outputs": [],
   "source": [
    "driver.find_element(By.XPATH, value='//*[@id=\"name_advanced\"]').send_keys(f'{COMITENTE}')\n",
    "driver.find_element(By.XPATH, value='//*[@id=\"search_form_submit\"]').click()\n",
    "driver.find_element(By.XPATH, value='/html/body/table[4]/tbody/tr[2]/td[2]/a').click()"
   ]
  },
  {
   "cell_type": "code",
   "execution_count": 98,
   "id": "a6d3f85b-6381-4c3c-b0ad-f9b5686ee269",
   "metadata": {},
   "outputs": [],
   "source": [
    "driver.switch_to.window(driver.window_handles[0])"
   ]
  },
  {
   "cell_type": "code",
   "execution_count": 99,
   "id": "23c8b340-48d9-49f9-bf04-35adde516d30",
   "metadata": {},
   "outputs": [],
   "source": [
    "driver.find_element(By.XPATH, value='//*[@id=\"description\"]').clear() # Así borramos cualquier otro valor predeterminado que pueda tener el campo\n",
    "driver.find_element(By.XPATH, value='//*[@id=\"description\"]').send_keys(f'PER.JUD.{pericia.upper()}')"
   ]
  },
  {
   "cell_type": "code",
   "execution_count": 100,
   "id": "d5c28850-5878-4302-b3d0-a5cd749ab900",
   "metadata": {},
   "outputs": [
    {
     "name": "stdin",
     "output_type": "stream",
     "text": [
      "Ingrese estado (Aprobado/Observado): aprobado\n"
     ]
    }
   ],
   "source": [
    "estado = content[11].strip()\n",
    "state = estado.lower()"
   ]
  },
  {
   "cell_type": "code",
   "execution_count": 101,
   "id": "416b5637-d010-4395-a3ce-5321e22b0dac",
   "metadata": {},
   "outputs": [],
   "source": [
    "if state == 'observado':\n",
    "    observacion = input('Ingrese observacion:')\n",
    "    driver.find_element(By.XPATH, value='//*[@id=\"estado_tarea_c\"]/option[10]').click()\n",
    "    driver.find_element(By.ID, value=\"btn_visador_c\").click()\n",
    "    driver.switch_to.window(driver.window_handles[1])\n",
    "    driver.find_element(By.XPATH, value='//*[@id=\"last_name_advanced\"]').send_keys('ciec')\n",
    "    driver.find_element(By.XPATH, value='//*[@id=\"search_form_submit\"]').click()\n",
    "    driver.find_element(By.XPATH, value='/html/body/table[4]/tbody/tr/td[1]/a').click()\n",
    "    driver.switch_to.window(driver.window_handles[0])\n",
    "    driver.find_element(By.XPATH, value='//*[@id=\"observacion_tarea_c\"]').send_keys(observacion)\n",
    "else:\n",
    "    driver.find_element(By.XPATH, value='//*[@id=\"estado_tarea_c\"]/option[1]').click()"
   ]
  },
  {
   "cell_type": "code",
   "execution_count": 102,
   "id": "1df320a9-738f-4f81-92f4-ee80881e5611",
   "metadata": {},
   "outputs": [],
   "source": [
    "driver.find_element(By.XPATH, value='//*[@id=\"obra_c\"]').send_keys(f'PER.JUD.{pericia.upper()}')\n",
    "driver.find_element(By.XPATH, value='//*[@id=\"obra_cp\"]').send_keys('5000')\n",
    "driver.find_element(By.XPATH, value='//*[@id=\"obra_direccion\"]').send_keys('CORDOBA')\n",
    "driver.find_element(By.XPATH, value='//*[@id=\"obra_localidad\"]').send_keys('CAPITAL')"
   ]
  },
  {
   "cell_type": "code",
   "execution_count": 103,
   "id": "bc792cb9-6548-47b4-981b-e148aa22bd52",
   "metadata": {},
   "outputs": [],
   "source": [
    "driver.find_element(By.ID, value=\"btn_created_by_name\").click()"
   ]
  },
  {
   "cell_type": "code",
   "execution_count": 104,
   "id": "e2916781-36d4-41b6-871d-c65f065af1a5",
   "metadata": {},
   "outputs": [],
   "source": [
    "driver.switch_to.window(driver.window_handles[1])\n",
    "driver.find_element(By.XPATH, value='//*[@id=\"last_name_advanced\"]').send_keys('vivas')\n",
    "driver.find_element(By.XPATH, value='//*[@id=\"search_form_submit\"]').click()\n",
    "driver.find_element(By.XPATH, value='/html/body/table[4]/tbody/tr/td[1]/a').click()"
   ]
  },
  {
   "cell_type": "code",
   "execution_count": 105,
   "id": "8d3e3379-6b34-4090-99ca-7e811bb706eb",
   "metadata": {},
   "outputs": [],
   "source": [
    "driver.switch_to.window(driver.window_handles[0])\n",
    "time.sleep(5)"
   ]
  },
  {
   "cell_type": "code",
   "execution_count": 106,
   "id": "fc2115f2-e9b4-446a-85da-72587acb95a0",
   "metadata": {},
   "outputs": [],
   "source": [
    "driver.find_element(By.XPATH, value='/html/body/div[2]/div/div/form/div[3]/input[1]').click()"
   ]
  },
  {
   "cell_type": "code",
   "execution_count": 107,
   "id": "ea9b2802-0825-465a-b0d0-6594e13b6b90",
   "metadata": {},
   "outputs": [],
   "source": [
    "time.sleep(5)\n",
    "driver.find_element(By.XPATH, value='//*[@id=\"subpanel_title_opportunities_knn_tareasexpediente_1\"]/div/div').click()\n",
    "driver.find_element(By.XPATH, value='//*[@id=\"list_subpanel_opportunities_knn_tareasexpediente_1\"]/table/tbody/tr/td[2]/a').click()"
   ]
  },
  {
   "cell_type": "code",
   "execution_count": 108,
   "id": "749fc02f-2fc1-446d-bd3c-6f72c63a74f1",
   "metadata": {},
   "outputs": [],
   "source": [
    "# Cargamos aportes a la Caja\n",
    "driver.find_element(By.XPATH, value='//*[@id=\"subpanel_title_knn_tareasexpediente_knn_aportes_terceros_1\"]/div/div').click()\n",
    "time.sleep(5)\n",
    "driver.find_element(By.XPATH, value='//*[@id=\"KNN_Aportes_Terceros_nuevo_button\"]').click()"
   ]
  },
  {
   "cell_type": "code",
   "execution_count": 109,
   "id": "8aa52daa-f91c-45df-ba26-83bb0c3db816",
   "metadata": {},
   "outputs": [],
   "source": [
    "driver.find_element(By.XPATH, value='//*[@id=\"description\"]').send_keys(f'PER.JUD.{pericia.upper()}')\n",
    "driver.find_element(By.XPATH, value='//*[@id=\"monto_c\"]').send_keys(f'{monto_caja}')"
   ]
  },
  {
   "cell_type": "code",
   "execution_count": 110,
   "id": "f57a919c-1e79-498b-a006-55dd4832f7dc",
   "metadata": {},
   "outputs": [],
   "source": [
    "caja_upper = medio_pago_caja.upper()"
   ]
  },
  {
   "cell_type": "code",
   "execution_count": 111,
   "id": "9c261440-8d43-498a-be0e-010aa3f0a586",
   "metadata": {},
   "outputs": [],
   "source": [
    "if caja_upper == 'T':\n",
    "    driver.find_element(By.XPATH, value='//*[@id=\"lugar_pago_c\"]/option[1]').click()\n",
    "elif caja_upper == 'C':\n",
    "    driver.find_element(By.XPATH, value='//*[@id=\"lugar_pago_c\"]/option[4]').click()\n",
    "elif caja_upper == 'MP':\n",
    "    driver.find_element(By.XPATH, value='//*[@id=\"lugar_pago_c\"]/option[10]').click()\n",
    "elif caja_upper == 'PF':\n",
    "    driver.find_element(By.XPATH, value='//*[@id=\"lugar_pago_c\"]/option[12]').click()\n",
    "elif caja_upper == 'PL':\n",
    "    driver.find_element(By.XPATH, value='//*[@id=\"lugar_pago_c\"]/option[13]').click()\n",
    "elif caja_upper == 'RP':\n",
    "    driver.find_element(By.XPATH, value='//*[@id=\"lugar_pago_c\"]/option[15]').click()\n",
    "else:\n",
    "    pass"
   ]
  },
  {
   "cell_type": "code",
   "execution_count": 112,
   "id": "61dbc865-1cf0-4d88-be70-9390fa546231",
   "metadata": {},
   "outputs": [],
   "source": [
    "try:\n",
    "    boleta_numerica = int(comprobante_caja)\n",
    "    driver.find_element(By.XPATH, value='//*[@id=\"nroboleta_c\"]').send_keys(boleta_numerica)\n",
    "    driver.find_element(By.XPATH, value='//*[@id=\"n_boleta_c\"]').send_keys(boleta_numerica)\n",
    "except:\n",
    "    driver.find_element(By.XPATH, value='//*[@id=\"description\"]').send_keys('\\n' + comprobante_caja)"
   ]
  },
  {
   "cell_type": "code",
   "execution_count": 113,
   "id": "20ac6e5b-6378-4c7c-8f2d-fde7fabcd337",
   "metadata": {},
   "outputs": [],
   "source": [
    "driver.find_element(By.XPATH, value='//*[@id=\"fecha_pago_c\"]').clear()\n",
    "driver.find_element(By.XPATH, value='//*[@id=\"fecha_pago_c\"]').send_keys(fecha_pago_caja)"
   ]
  },
  {
   "cell_type": "code",
   "execution_count": 114,
   "id": "d0cafe16-7fd3-4725-97b7-f6b86ede8e09",
   "metadata": {},
   "outputs": [],
   "source": [
    "driver.find_element(By.XPATH, value='/html/body/div[3]/div/div/form/div[3]/input[1]').click()"
   ]
  },
  {
   "cell_type": "code",
   "execution_count": 115,
   "id": "227519d1-e4cf-46f5-9297-5de5b743c7e4",
   "metadata": {},
   "outputs": [],
   "source": [
    "#Descargamos carátula expediente\n",
    "time.sleep(5)\n",
    "driver.find_element(By.XPATH, value='//*[@id=\"tab-actions\"]/a').click()\n",
    "driver.find_element(By.XPATH, value='//*[@id=\"tab-actions\"]/ul/li[5]/input').click()\n",
    "driver.find_element(By.XPATH, value='//*[@id=\"popupForm\"]/table/tbody/tr[3]/td[2]/a').click()"
   ]
  },
  {
   "cell_type": "code",
   "execution_count": 116,
   "id": "ccdf31b2-be9e-4f64-83f5-6fdb8a4b847c",
   "metadata": {},
   "outputs": [],
   "source": [
    "time.sleep(5)\n",
    "driver.quit()"
   ]
  },
  {
   "cell_type": "code",
   "execution_count": 117,
   "id": "8d1b0add-08de-448e-8015-5b1a1e951703",
   "metadata": {},
   "outputs": [],
   "source": [
    "os.mkdir(f\"C:/Users/nvivas/OneDrive/Documentos/PERICIAS/{perito}\")"
   ]
  },
  {
   "cell_type": "code",
   "execution_count": 127,
   "id": "5f39285e-d2db-41fd-b797-cfbc6fed38af",
   "metadata": {
    "tags": []
   },
   "outputs": [
    {
     "ename": "TypeError",
     "evalue": "unsupported operand type(s) for -: 'float' and 'str'",
     "output_type": "error",
     "traceback": [
      "\u001b[1;31m---------------------------------------------------------------------------\u001b[0m",
      "\u001b[1;31mTypeError\u001b[0m                                 Traceback (most recent call last)",
      "\u001b[1;32m~\\AppData\\Local\\Temp\\ipykernel_12192\\186862507.py\u001b[0m in \u001b[0;36m<module>\u001b[1;34m\u001b[0m\n\u001b[0;32m     15\u001b[0m \"\"\"\n\u001b[0;32m     16\u001b[0m \u001b[1;33m\u001b[0m\u001b[0m\n\u001b[1;32m---> 17\u001b[1;33m \u001b[1;32mif\u001b[0m \u001b[0mvalidarAportesCaja\u001b[0m\u001b[1;33m(\u001b[0m\u001b[0mcalculoCaja\u001b[0m\u001b[1;33m(\u001b[0m\u001b[0mhonorarios\u001b[0m\u001b[1;33m)\u001b[0m\u001b[1;33m,\u001b[0m \u001b[0mmonto_caja\u001b[0m\u001b[1;33m)\u001b[0m \u001b[1;33m<\u001b[0m \u001b[1;36m0\u001b[0m\u001b[1;33m:\u001b[0m\u001b[1;33m\u001b[0m\u001b[1;33m\u001b[0m\u001b[0m\n\u001b[0m\u001b[0;32m     18\u001b[0m     \u001b[0mprint\u001b[0m\u001b[1;33m(\u001b[0m\u001b[1;34m\"Existe una diferencia de aportes de:\"\u001b[0m\u001b[1;33m,\u001b[0m \u001b[0mvalidarAportesCaja\u001b[0m\u001b[1;33m(\u001b[0m\u001b[0mcalculoCaja\u001b[0m\u001b[1;33m(\u001b[0m\u001b[0mhonorarios\u001b[0m\u001b[1;33m)\u001b[0m\u001b[1;33m,\u001b[0m \u001b[0mmonto_caja\u001b[0m\u001b[1;33m)\u001b[0m\u001b[1;33m,\u001b[0m \u001b[1;34m\"- (Pagó de más)\"\u001b[0m\u001b[1;33m)\u001b[0m\u001b[1;33m\u001b[0m\u001b[1;33m\u001b[0m\u001b[0m\n\u001b[0;32m     19\u001b[0m \u001b[1;32melif\u001b[0m \u001b[0mvalidarAportesCaja\u001b[0m\u001b[1;33m(\u001b[0m\u001b[0mcalculoCaja\u001b[0m\u001b[1;33m(\u001b[0m\u001b[0mhonorarios\u001b[0m\u001b[1;33m)\u001b[0m\u001b[1;33m,\u001b[0m \u001b[0mmonto_caja\u001b[0m\u001b[1;33m)\u001b[0m \u001b[1;33m>\u001b[0m \u001b[1;36m0\u001b[0m\u001b[1;33m:\u001b[0m\u001b[1;33m\u001b[0m\u001b[1;33m\u001b[0m\u001b[0m\n",
      "\u001b[1;32m~\\AppData\\Local\\Temp\\ipykernel_12192\\1198403320.py\u001b[0m in \u001b[0;36mvalidarAportesCaja\u001b[1;34m(aporte_corr, aporte_prof)\u001b[0m\n\u001b[0;32m     28\u001b[0m     \u001b[0mdiferencia\u001b[0m \u001b[1;33m=\u001b[0m \u001b[1;36m0\u001b[0m\u001b[1;33m\u001b[0m\u001b[1;33m\u001b[0m\u001b[0m\n\u001b[0;32m     29\u001b[0m     \u001b[1;32mif\u001b[0m \u001b[0maporte_corr\u001b[0m \u001b[1;33m!=\u001b[0m \u001b[0maporte_prof\u001b[0m\u001b[1;33m:\u001b[0m\u001b[1;33m\u001b[0m\u001b[1;33m\u001b[0m\u001b[0m\n\u001b[1;32m---> 30\u001b[1;33m         \u001b[0mdiferencia\u001b[0m \u001b[1;33m=\u001b[0m \u001b[0maporte_corr\u001b[0m \u001b[1;33m-\u001b[0m \u001b[0maporte_prof\u001b[0m\u001b[1;33m\u001b[0m\u001b[1;33m\u001b[0m\u001b[0m\n\u001b[0m\u001b[0;32m     31\u001b[0m \u001b[1;33m\u001b[0m\u001b[0m\n\u001b[0;32m     32\u001b[0m     \u001b[1;32mreturn\u001b[0m \u001b[0mdiferencia\u001b[0m\u001b[1;33m\u001b[0m\u001b[1;33m\u001b[0m\u001b[0m\n",
      "\u001b[1;31mTypeError\u001b[0m: unsupported operand type(s) for -: 'float' and 'str'"
     ]
    }
   ],
   "source": [
    "resultado = f\"\"\"\n",
    "Profesional: {perito}\n",
    "Nro. Expediente: {nro_expediente}\n",
    "Comitente: PODER JUDICIAL DE LA PROVINCIA DE CORDOBA\n",
    "Autos: PER.JUD.{pericia.upper()}\n",
    "\n",
    "Aporte 5%: {str(aportes5(honorarios))}\n",
    "Total aportes: {str(calculoCiec())}\n",
    "\n",
    "Total a pagar a perito: {str(totalAPagar(pago_tribunales, calculoCiec()))}\n",
    "CBU: {str(cbu)}\n",
    "\n",
    "VALIDACIONES:\n",
    "------------\n",
    "\"\"\"\n",
    "\n",
    "if validarAportesCaja(calculoCaja(honorarios), monto_caja) < 0:\n",
    "    print(\"Existe una diferencia de aportes de:\", validarAportesCaja(calculoCaja(honorarios), monto_caja), \"- (Pagó de más)\")\n",
    "elif validarAportesCaja(calculoCaja(honorarios), monto_caja) > 0:\n",
    "    print(\"Existe una diferencia de aportes de:\", validarAportesCaja(calculoCaja(honorarios), monto_caja), \"- (Pagó de menos)\")\n",
    "else:\n",
    "    print(\"No hay diferencias de aportes a la Caja\")\n",
    "    \n",
    "if validarAportesSellos(calculoSellos(honorarios), pago_sellos) < 0:\n",
    "    print(\"Existe una diferencia de sellos de:\", validarAportesSellos(calculoSellos(honorarios), pago_sellos), \"- (Pagó de más)\")\n",
    "elif validarAportesSellos(calculoSellos(honorarios), pago_sellos) > 0:\n",
    "    print(\"Existe una diferencia de sellos de:\", validarAportesSellos(calculoSellos(honorarios), pago_sellos), \"- (Pagó de menos)\")\n",
    "else:\n",
    "    print(\"No hay diferencias de pago a sellos\")"
   ]
  },
  {
   "cell_type": "code",
   "execution_count": 132,
   "id": "df29fe34-511c-4a20-b842-21b408e6b67e",
   "metadata": {},
   "outputs": [
    {
     "data": {
      "text/plain": [
       "'\\nProfesional: ANTUÑA MICAELA\\nNro. Expediente: 74401\\nComitente: PODER JUDICIAL DE LA PROVINCIA DE CORDOBA\\nAutos: PER.JUD.GONZALEZ C/ PREVENCION\\n\\nAporte 5%: 1800\\nTotal aportes: 3000\\n\\nTotal a pagar a perito: 34824.42\\nCBU: 70076430004047446011\\n\\nVALIDACIONES:\\n------------\\n'"
      ]
     },
     "execution_count": 132,
     "metadata": {},
     "output_type": "execute_result"
    }
   ],
   "source": [
    "salida = open(\"../../OneDrive/Documentos/PERICIAS/salidas-pericias.txt\", \"a\")\n",
    "salida.writelines([resultado])\n",
    "salida.close()\n",
    "resultado"
   ]
  }
 ],
 "metadata": {
  "kernelspec": {
   "display_name": "Python 3 (ipykernel)",
   "language": "python",
   "name": "python3"
  },
  "language_info": {
   "codemirror_mode": {
    "name": "ipython",
    "version": 3
   },
   "file_extension": ".py",
   "mimetype": "text/x-python",
   "name": "python",
   "nbconvert_exporter": "python",
   "pygments_lexer": "ipython3",
   "version": "3.9.13"
  }
 },
 "nbformat": 4,
 "nbformat_minor": 5
}
