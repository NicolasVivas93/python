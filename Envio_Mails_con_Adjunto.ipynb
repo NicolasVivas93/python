{
 "cells": [
  {
   "cell_type": "code",
   "execution_count": 73,
   "id": "a67c501b-8632-48dd-b5e0-22d19003a1d3",
   "metadata": {},
   "outputs": [],
   "source": [
    "#Credits to:\n",
    "#https://gist.github.com/2624789\n",
    "\n",
    "#Source:\n",
    "#https://gist.github.com/2624789/d42aaa12bf3a36356342"
   ]
  },
  {
   "cell_type": "code",
   "execution_count": 74,
   "id": "83f99070-5f55-476d-87c5-2c3e4981f6ec",
   "metadata": {},
   "outputs": [],
   "source": [
    "#ACLARACION:\n",
    "# A los fines de utilizar el programa debe permitirse el acceso a aplicaciones menos seguras desde el link que está debajo:\n",
    "#https://myaccount.google.com/lesssecureapps?pli=1&rapt=AEjHL4MvMxFR97OEB1EOjNEogL6RxHCu_OO9UQmD8iTJQ2YOL5k1YFMUj3lkgPStoTGTNha1N7sx44YHXkVg0Vol2KpvoOm5Lw\n",
    "#Luego de su uso, desactivar dicho permiso.\n",
    "\n",
    "import smtplib\n",
    "from email.mime.multipart import MIMEMultipart\n",
    "from email.mime.text import MIMEText\n",
    "from email.mime.base import MIMEBase\n",
    "from email import encoders"
   ]
  },
  {
   "cell_type": "code",
   "execution_count": 75,
   "id": "02255416-e181-4bf6-8b89-28dc3d90cfb0",
   "metadata": {},
   "outputs": [],
   "source": [
    "# Iniciamos los parámetros del script\n",
    "remitente = 'contable@ciec.com.ar'\n",
    "destinatarios = ['leticia21marzo79@gmail.com']#, 'destinatario_dos@correo.com', 'destinatario_tres@correo.com']\n",
    "asunto = 'RECIBO HABERES NOVIEMBRE 2022'\n",
    "cuerpo = \"\"\"\n",
    "Leti, te envío recibo de haberes por NOVIEMBRE 2022.\n",
    "\n",
    "Saludos!\n",
    "\n",
    "Nico\n",
    "\"\"\"\n",
    "ruta_adjunto = '../../../Desktop/11-NOVIEMBRE 2022/VASCONI NOV 2022.pdf'\n",
    "nombre_adjunto = 'VASCONI NOV 2022.pdf'"
   ]
  },
  {
   "cell_type": "code",
   "execution_count": 76,
   "id": "27e07860-374e-47ec-987c-31fd50b24b56",
   "metadata": {},
   "outputs": [],
   "source": [
    "# Creamos el objeto mensaje\n",
    "mensaje = MIMEMultipart()"
   ]
  },
  {
   "cell_type": "code",
   "execution_count": 77,
   "id": "061b7a62-d9d4-4611-88ef-f12e883783b6",
   "metadata": {},
   "outputs": [],
   "source": [
    "# Establecemos los atributos del mensaje\n",
    "mensaje['From'] = remitente\n",
    "mensaje['To'] = \", \".join(destinatarios)\n",
    "mensaje['Subject'] = asunto"
   ]
  },
  {
   "cell_type": "code",
   "execution_count": 78,
   "id": "c307585e-046c-411b-9d5a-a382c6453a50",
   "metadata": {},
   "outputs": [],
   "source": [
    "# Agregamos el cuerpo del mensaje como objeto MIME de tipo texto\n",
    "mensaje.attach(MIMEText(cuerpo, 'plain'))"
   ]
  },
  {
   "cell_type": "code",
   "execution_count": 79,
   "id": "3057bf75-6f65-483b-9d51-ee20c784c314",
   "metadata": {},
   "outputs": [],
   "source": [
    "# Abrimos el archivo que vamos a adjuntar\n",
    "archivo_adjunto = open(ruta_adjunto, 'rb')"
   ]
  },
  {
   "cell_type": "code",
   "execution_count": 80,
   "id": "0da457de-3663-49ea-9d84-5c460ccbe3ef",
   "metadata": {},
   "outputs": [],
   "source": [
    "# Creamos un objeto MIME base\n",
    "adjunto_MIME = MIMEBase('application', 'octet-stream')\n",
    "# Y le cargamos el archivo adjunto\n",
    "adjunto_MIME.set_payload((archivo_adjunto).read())\n",
    "# Codificamos el objeto en BASE64\n",
    "encoders.encode_base64(adjunto_MIME)\n",
    "# Agregamos una cabecera al objeto\n",
    "adjunto_MIME.add_header('Content-Disposition', \"attachment; filename= %s\" % nombre_adjunto)\n",
    "# Y finalmente lo agregamos al mensaje\n",
    "mensaje.attach(adjunto_MIME)"
   ]
  },
  {
   "cell_type": "code",
   "execution_count": 81,
   "id": "e0211b10-8c4b-4b40-bd13-9e663bdd7b85",
   "metadata": {},
   "outputs": [],
   "source": [
    "# Creamos la conexión con el servidor\n",
    "sesion_smtp = smtplib.SMTP('smtp.gmail.com', 587)"
   ]
  },
  {
   "cell_type": "code",
   "execution_count": 82,
   "id": "24741351-6cef-4ffb-b8ee-149a52e027a6",
   "metadata": {},
   "outputs": [
    {
     "data": {
      "text/plain": [
       "(220, b'2.0.0 Ready to start TLS')"
      ]
     },
     "execution_count": 82,
     "metadata": {},
     "output_type": "execute_result"
    }
   ],
   "source": [
    "# Ciframos la conexión\n",
    "sesion_smtp.starttls()"
   ]
  },
  {
   "cell_type": "code",
   "execution_count": 83,
   "id": "81085c7d-07a6-4057-8b5b-8e0c146fc296",
   "metadata": {},
   "outputs": [
    {
     "data": {
      "text/plain": [
       "(235, b'2.7.0 Accepted')"
      ]
     },
     "execution_count": 83,
     "metadata": {},
     "output_type": "execute_result"
    }
   ],
   "source": [
    "# Iniciamos sesión en el servidor\n",
    "sesion_smtp.login('contable@ciec.com.ar','con2022$$')"
   ]
  },
  {
   "cell_type": "code",
   "execution_count": 84,
   "id": "ac880db0-9746-4991-8573-a349970e7a4e",
   "metadata": {},
   "outputs": [],
   "source": [
    "# Convertimos el objeto mensaje a texto\n",
    "texto = mensaje.as_string()"
   ]
  },
  {
   "cell_type": "code",
   "execution_count": 85,
   "id": "710358a6-2ed8-462c-a9ec-bb4e7818acfb",
   "metadata": {},
   "outputs": [
    {
     "data": {
      "text/plain": [
       "{}"
      ]
     },
     "execution_count": 85,
     "metadata": {},
     "output_type": "execute_result"
    }
   ],
   "source": [
    "# Enviamos el mensaje\n",
    "sesion_smtp.sendmail(remitente, destinatarios, texto)"
   ]
  },
  {
   "cell_type": "code",
   "execution_count": 86,
   "id": "b345f531-209e-439e-a867-927ce156e204",
   "metadata": {},
   "outputs": [
    {
     "data": {
      "text/plain": [
       "(221,\n",
       " b'2.0.0 closing connection s8-20020acaa908000000b00354d8589a15sm974499oie.45 - gsmtp')"
      ]
     },
     "execution_count": 86,
     "metadata": {},
     "output_type": "execute_result"
    }
   ],
   "source": [
    "# Cerramos la conexión\n",
    "sesion_smtp.quit()"
   ]
  }
 ],
 "metadata": {
  "kernelspec": {
   "display_name": "Python 3 (ipykernel)",
   "language": "python",
   "name": "python3"
  },
  "language_info": {
   "codemirror_mode": {
    "name": "ipython",
    "version": 3
   },
   "file_extension": ".py",
   "mimetype": "text/x-python",
   "name": "python",
   "nbconvert_exporter": "python",
   "pygments_lexer": "ipython3",
   "version": "3.9.13"
  }
 },
 "nbformat": 4,
 "nbformat_minor": 5
}
