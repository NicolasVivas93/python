{
 "cells": [
  {
   "cell_type": "code",
   "execution_count": 206,
   "id": "14b34365",
   "metadata": {},
   "outputs": [],
   "source": [
    "import time\n",
    "from selenium import webdriver\n",
    "from selenium.webdriver.common.by import By"
   ]
  },
  {
   "cell_type": "code",
   "execution_count": 207,
   "id": "388bd04a",
   "metadata": {},
   "outputs": [],
   "source": [
    "driver = webdriver.Chrome()\n",
    "driver.get(\"https://crmciec.hostingcrm.com.ar/index.php?module=Users&action=Login\")"
   ]
  },
  {
   "cell_type": "code",
   "execution_count": 208,
   "id": "602cc396",
   "metadata": {},
   "outputs": [],
   "source": [
    "usuario = driver.find_element(by=By.NAME, value=\"user_name\")  \n",
    "usuario.send_keys('nicolas.vivas')\n",
    "\n",
    "password = driver.find_element(by=By.NAME, value=\"username_password\") \n",
    "password.send_keys('12345')"
   ]
  },
  {
   "cell_type": "code",
   "execution_count": 209,
   "id": "6fd138da",
   "metadata": {},
   "outputs": [],
   "source": [
    "submit_btn = driver.find_element(by=By.NAME, value=\"Login\")  \n",
    "submit_btn.click()"
   ]
  },
  {
   "cell_type": "code",
   "execution_count": 210,
   "id": "a0a69de0",
   "metadata": {},
   "outputs": [],
   "source": [
    "driver.find_element(By.LINK_TEXT, value=\"Crear\").click()"
   ]
  },
  {
   "cell_type": "code",
   "execution_count": 211,
   "id": "ad3292f5",
   "metadata": {},
   "outputs": [],
   "source": [
    "driver.find_element(By.LINK_TEXT, value=\"Create Expedientes\").click()"
   ]
  },
  {
   "cell_type": "code",
   "execution_count": 212,
   "id": "96969d9e",
   "metadata": {},
   "outputs": [],
   "source": [
    "#Buscar matriculado\n",
    "driver.find_element(By.ID, value=\"btn_account_name\").click()"
   ]
  },
  {
   "cell_type": "code",
   "execution_count": 213,
   "id": "9b33eed0",
   "metadata": {},
   "outputs": [],
   "source": [
    "driver.switch_to.window(driver.window_handles[1])"
   ]
  },
  {
   "cell_type": "code",
   "execution_count": 214,
   "id": "70008d47",
   "metadata": {},
   "outputs": [],
   "source": [
    "driver.find_element(By.XPATH, value='//*[@id=\"name_advanced\"]').send_keys('ANTUÑA')"
   ]
  },
  {
   "cell_type": "code",
   "execution_count": 215,
   "id": "1edd3cc2",
   "metadata": {},
   "outputs": [],
   "source": [
    "#Seleccionamos estado 'Activo'\n",
    "driver.find_element(By.XPATH, value='//*[@id=\"estado_despl_c_advanced\"]/option[1]').click()"
   ]
  },
  {
   "cell_type": "code",
   "execution_count": 216,
   "id": "d38bfa48",
   "metadata": {},
   "outputs": [],
   "source": [
    "driver.find_element(By.XPATH, value='//*[@id=\"search_form_submit\"]').click()"
   ]
  },
  {
   "cell_type": "code",
   "execution_count": 217,
   "id": "576f3211",
   "metadata": {},
   "outputs": [],
   "source": [
    "driver.find_element(By.XPATH, value='/html/body/table[4]/tbody/tr/td[2]/a').click()"
   ]
  },
  {
   "cell_type": "code",
   "execution_count": 218,
   "id": "2a7f979d",
   "metadata": {},
   "outputs": [],
   "source": [
    "driver.switch_to.window(driver.window_handles[0])"
   ]
  },
  {
   "cell_type": "code",
   "execution_count": 219,
   "id": "21e162b9",
   "metadata": {},
   "outputs": [],
   "source": [
    "#driver.current_url"
   ]
  },
  {
   "cell_type": "code",
   "execution_count": 220,
   "id": "430743a2",
   "metadata": {},
   "outputs": [
    {
     "data": {
      "text/plain": [
       "'https://crmciec.hostingcrm.com.ar/index.php?module=KNN_comitente&action=Popup&mode=single&create=true&field_to_name[]=name'"
      ]
     },
     "execution_count": 220,
     "metadata": {},
     "output_type": "execute_result"
    }
   ],
   "source": [
    "#Vamos a seleccionar comitente\n",
    "driver.find_element(By.ID, value=\"btn_comitente_c\").click()\n",
    "driver.switch_to.window(driver.window_handles[1])\n",
    "driver.current_url"
   ]
  },
  {
   "cell_type": "code",
   "execution_count": 221,
   "id": "4ad0f9db",
   "metadata": {},
   "outputs": [],
   "source": [
    "# Buscamos Poder Judicial\n",
    "driver.find_element(By.XPATH, value='//*[@id=\"name_advanced\"]').send_keys('PODER JUDICIAL')\n",
    "driver.find_element(By.XPATH, value='//*[@id=\"search_form_submit\"]').click()"
   ]
  },
  {
   "cell_type": "code",
   "execution_count": 222,
   "id": "6d720ca6",
   "metadata": {},
   "outputs": [],
   "source": [
    "# Seleccionamos Poder Judicial\n",
    "driver.find_element(By.XPATH, value='/html/body/table[4]/tbody/tr[2]/td[2]/a').click()"
   ]
  },
  {
   "cell_type": "code",
   "execution_count": 223,
   "id": "82f5d6f4",
   "metadata": {},
   "outputs": [],
   "source": [
    "driver.switch_to.window(driver.window_handles[0])\n",
    "#driver.current_url"
   ]
  },
  {
   "cell_type": "code",
   "execution_count": 224,
   "id": "b361a9b4",
   "metadata": {},
   "outputs": [],
   "source": [
    "#Seleccionamos Pericia Judicial\n",
    "driver.find_element(By.XPATH, value='//*[@id=\"opportunity_type\"]/option[6]').click()"
   ]
  },
  {
   "cell_type": "code",
   "execution_count": 225,
   "id": "9c49e6d3",
   "metadata": {},
   "outputs": [],
   "source": [
    "#Colocamos autos\n",
    "driver.find_element(By.ID, value=\"description\").send_keys('PER.JUD.')"
   ]
  },
  {
   "cell_type": "code",
   "execution_count": 226,
   "id": "cf7818f1",
   "metadata": {},
   "outputs": [],
   "source": [
    "driver.find_element(By.XPATH, value='//*[@id=\"SAVE\"]').click()"
   ]
  },
  {
   "cell_type": "code",
   "execution_count": 227,
   "id": "62cf3504",
   "metadata": {
    "scrolled": true
   },
   "outputs": [],
   "source": [
    "# Iniciamos creación de Tarea de Expediente\n",
    "driver.find_element(By.XPATH, value='//*[@id=\"subpanel_title_opportunities_knn_tareasexpediente_1\"]/div/div').click()\n",
    "time.sleep(5)"
   ]
  },
  {
   "cell_type": "code",
   "execution_count": 228,
   "id": "92b65fa6",
   "metadata": {},
   "outputs": [],
   "source": [
    "driver.find_element(By.LINK_TEXT, value=\"Nuevo\").click()"
   ]
  },
  {
   "cell_type": "code",
   "execution_count": 229,
   "id": "92acb219",
   "metadata": {},
   "outputs": [],
   "source": [
    "driver.find_element(By.XPATH, value='//*[@id=\"tipo_tarea_c\"]/option[29]').click()"
   ]
  },
  {
   "cell_type": "code",
   "execution_count": 230,
   "id": "454601d3",
   "metadata": {},
   "outputs": [],
   "source": [
    "driver.find_element(By.ID, value=\"btn_accounts_knn_tareasexpediente_1_name\").click()"
   ]
  },
  {
   "cell_type": "code",
   "execution_count": 231,
   "id": "1a722e85",
   "metadata": {},
   "outputs": [],
   "source": [
    "driver.switch_to.window(driver.window_handles[1])"
   ]
  },
  {
   "cell_type": "code",
   "execution_count": 232,
   "id": "faaa06b1",
   "metadata": {},
   "outputs": [],
   "source": [
    "driver.find_element(By.XPATH, value='//*[@id=\"name_advanced\"]').send_keys('ANTUÑA')\n",
    "driver.find_element(By.XPATH, value='//*[@id=\"estado_despl_c_advanced\"]/option[1]').click()\n",
    "driver.find_element(By.XPATH, value='//*[@id=\"search_form_submit\"]').click()"
   ]
  },
  {
   "cell_type": "code",
   "execution_count": 233,
   "id": "c8009790",
   "metadata": {},
   "outputs": [],
   "source": [
    "driver.find_element(By.XPATH, value='/html/body/table[4]/tbody/tr/td[2]/a').click()"
   ]
  },
  {
   "cell_type": "code",
   "execution_count": 234,
   "id": "ea6e6449",
   "metadata": {
    "scrolled": true
   },
   "outputs": [],
   "source": [
    "driver.switch_to.window(driver.window_handles[0])"
   ]
  },
  {
   "cell_type": "code",
   "execution_count": 235,
   "id": "daaa8d62",
   "metadata": {},
   "outputs": [],
   "source": [
    "driver.find_element(By.XPATH, value='//*[@id=\"monto_obra\"]').send_keys('0')\n",
    "driver.find_element(By.XPATH, value='//*[@id=\"monto_honorario\"]').send_keys('40000')"
   ]
  },
  {
   "cell_type": "code",
   "execution_count": 236,
   "id": "c3176426",
   "metadata": {},
   "outputs": [],
   "source": [
    "driver.find_element(By.ID, value=\"btn_knn_comitente_knn_tareasexpediente_1_name\").click()"
   ]
  },
  {
   "cell_type": "code",
   "execution_count": 237,
   "id": "8af76abe",
   "metadata": {
    "scrolled": true
   },
   "outputs": [],
   "source": [
    "driver.switch_to.window(driver.window_handles[1])"
   ]
  },
  {
   "cell_type": "code",
   "execution_count": 238,
   "id": "26353874",
   "metadata": {},
   "outputs": [],
   "source": [
    "driver.find_element(By.XPATH, value='//*[@id=\"name_advanced\"]').send_keys('PODER JUDICIAL')\n",
    "driver.find_element(By.XPATH, value='//*[@id=\"search_form_submit\"]').click()\n",
    "driver.find_element(By.XPATH, value='/html/body/table[4]/tbody/tr[2]/td[2]/a').click()"
   ]
  },
  {
   "cell_type": "code",
   "execution_count": 239,
   "id": "6f2f7682",
   "metadata": {},
   "outputs": [],
   "source": [
    "driver.switch_to.window(driver.window_handles[0])"
   ]
  },
  {
   "cell_type": "code",
   "execution_count": 240,
   "id": "5dfe860a",
   "metadata": {},
   "outputs": [],
   "source": [
    "driver.find_element(By.XPATH, value='//*[@id=\"description\"]').clear() # Así borramos cualquier otro valor predeterminado que pueda tener el campo\n",
    "driver.find_element(By.XPATH, value='//*[@id=\"description\"]').send_keys('PER.JUD.')"
   ]
  },
  {
   "cell_type": "code",
   "execution_count": 241,
   "id": "a3d625ed",
   "metadata": {},
   "outputs": [
    {
     "name": "stdout",
     "output_type": "stream",
     "text": [
      "Ingrese estado:aprobado\n"
     ]
    }
   ],
   "source": [
    "estado = input('Ingrese estado:')\n",
    "state = estado.lower()"
   ]
  },
  {
   "cell_type": "code",
   "execution_count": 242,
   "id": "b23314ea",
   "metadata": {},
   "outputs": [],
   "source": [
    "if state == 'observado':\n",
    "    observacion = input('Ingrese observacion:')\n",
    "    driver.find_element(By.XPATH, value='//*[@id=\"estado_tarea_c\"]/option[10]').click()\n",
    "    driver.find_element(By.ID, value=\"btn_visador_c\").click()\n",
    "    driver.switch_to.window(driver.window_handles[1])\n",
    "    driver.find_element(By.XPATH, value='//*[@id=\"last_name_advanced\"]').send_keys('ciec')\n",
    "    driver.find_element(By.XPATH, value='//*[@id=\"search_form_submit\"]').click()\n",
    "    driver.find_element(By.XPATH, value='/html/body/table[4]/tbody/tr/td[1]/a').click()\n",
    "    driver.switch_to.window(driver.window_handles[0])\n",
    "    driver.find_element(By.XPATH, value='//*[@id=\"observacion_tarea_c\"]').send_keys(observacion)\n",
    "else:\n",
    "    driver.find_element(By.XPATH, value='//*[@id=\"estado_tarea_c\"]/option[1]').click()"
   ]
  },
  {
   "cell_type": "code",
   "execution_count": 243,
   "id": "c9a48325",
   "metadata": {},
   "outputs": [],
   "source": [
    "driver.find_element(By.XPATH, value='//*[@id=\"obra_c\"]').send_keys('PER.JUD.')\n",
    "driver.find_element(By.XPATH, value='//*[@id=\"obra_cp\"]').send_keys('5000')\n",
    "driver.find_element(By.XPATH, value='//*[@id=\"obra_direccion\"]').send_keys('CORDOBA')\n",
    "driver.find_element(By.XPATH, value='//*[@id=\"obra_localidad\"]').send_keys('CAPITAL')"
   ]
  },
  {
   "cell_type": "code",
   "execution_count": 244,
   "id": "bc0657d3",
   "metadata": {},
   "outputs": [],
   "source": [
    "driver.find_element(By.ID, value=\"btn_created_by_name\").click()"
   ]
  },
  {
   "cell_type": "code",
   "execution_count": 245,
   "id": "74eb8265",
   "metadata": {},
   "outputs": [],
   "source": [
    "driver.switch_to.window(driver.window_handles[1])\n",
    "driver.find_element(By.XPATH, value='//*[@id=\"last_name_advanced\"]').send_keys('vivas')\n",
    "driver.find_element(By.XPATH, value='//*[@id=\"search_form_submit\"]').click()\n",
    "driver.find_element(By.XPATH, value='/html/body/table[4]/tbody/tr/td[1]/a').click()"
   ]
  },
  {
   "cell_type": "code",
   "execution_count": 246,
   "id": "03854717",
   "metadata": {},
   "outputs": [],
   "source": [
    "driver.switch_to.window(driver.window_handles[0])\n",
    "time.sleep(5)"
   ]
  },
  {
   "cell_type": "code",
   "execution_count": 248,
   "id": "6474e1f9",
   "metadata": {},
   "outputs": [],
   "source": [
    "driver.find_element(By.XPATH, value='//*[@id=\"SAVE\"]').click()"
   ]
  },
  {
   "cell_type": "code",
   "execution_count": null,
   "id": "a975b0cb",
   "metadata": {},
   "outputs": [],
   "source": [
    "driver.quit()"
   ]
  }
 ],
 "metadata": {
  "kernelspec": {
   "display_name": "Python 3 (ipykernel)",
   "language": "python",
   "name": "python3"
  },
  "language_info": {
   "codemirror_mode": {
    "name": "ipython",
    "version": 3
   },
   "file_extension": ".py",
   "mimetype": "text/x-python",
   "name": "python",
   "nbconvert_exporter": "python",
   "pygments_lexer": "ipython3",
   "version": "3.10.7"
  },
  "vscode": {
   "interpreter": {
    "hash": "916dbcbb3f70747c44a77c7bcd40155683ae19c65e1c03b4aa3499c5328201f1"
   }
  }
 },
 "nbformat": 4,
 "nbformat_minor": 5
}
