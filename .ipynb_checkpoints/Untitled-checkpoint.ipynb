{
 "cells": [
  {
   "cell_type": "code",
   "execution_count": 118,
   "id": "14b34365",
   "metadata": {},
   "outputs": [],
   "source": [
    "from selenium import webdriver\n",
    "from selenium.webdriver.common.by import By"
   ]
  },
  {
   "cell_type": "code",
   "execution_count": 119,
   "id": "388bd04a",
   "metadata": {},
   "outputs": [],
   "source": [
    "driver = webdriver.Chrome()\n",
    "driver.get(\"https://crmciec.hostingcrm.com.ar/index.php?module=Users&action=Login\")"
   ]
  },
  {
   "cell_type": "code",
   "execution_count": 120,
   "id": "602cc396",
   "metadata": {},
   "outputs": [],
   "source": [
    "usuario = driver.find_element(by=By.NAME, value=\"user_name\")  \n",
    "usuario.send_keys('nicolas.vivas')\n",
    "\n",
    "password = driver.find_element(by=By.NAME, value=\"username_password\") \n",
    "password.send_keys('12345')"
   ]
  },
  {
   "cell_type": "code",
   "execution_count": 121,
   "id": "6fd138da",
   "metadata": {},
   "outputs": [],
   "source": [
    "submit_btn = driver.find_element(by=By.NAME, value=\"Login\")  \n",
    "submit_btn.click()"
   ]
  },
  {
   "cell_type": "code",
   "execution_count": 122,
   "id": "a0a69de0",
   "metadata": {},
   "outputs": [],
   "source": [
    "driver.find_element(By.LINK_TEXT, value=\"Crear\").click()"
   ]
  },
  {
   "cell_type": "code",
   "execution_count": 123,
   "id": "ad3292f5",
   "metadata": {},
   "outputs": [],
   "source": [
    "driver.find_element(By.LINK_TEXT, value=\"Create Expedientes\").click()"
   ]
  },
  {
   "cell_type": "code",
   "execution_count": 124,
   "id": "96969d9e",
   "metadata": {},
   "outputs": [],
   "source": [
    "#Buscar matriculado\n",
    "driver.find_element(By.ID, value=\"btn_account_name\").click()"
   ]
  },
  {
   "cell_type": "code",
   "execution_count": 125,
   "id": "9b33eed0",
   "metadata": {},
   "outputs": [],
   "source": [
    "driver.switch_to.window(driver.window_handles[1])"
   ]
  },
  {
   "cell_type": "code",
   "execution_count": 126,
   "id": "70008d47",
   "metadata": {},
   "outputs": [],
   "source": [
    "driver.find_element(By.XPATH, value='//*[@id=\"name_advanced\"]').send_keys('ANTUÑA')"
   ]
  },
  {
   "cell_type": "code",
   "execution_count": 127,
   "id": "1edd3cc2",
   "metadata": {},
   "outputs": [],
   "source": [
    "#Seleccionamos estado 'Activo'\n",
    "driver.find_element(By.XPATH, value='//*[@id=\"estado_despl_c_advanced\"]/option[1]').click()"
   ]
  },
  {
   "cell_type": "code",
   "execution_count": 128,
   "id": "d38bfa48",
   "metadata": {},
   "outputs": [],
   "source": [
    "driver.find_element(By.XPATH, value='//*[@id=\"search_form_submit\"]').click()"
   ]
  },
  {
   "cell_type": "code",
   "execution_count": 129,
   "id": "576f3211",
   "metadata": {},
   "outputs": [],
   "source": [
    "driver.find_element(By.XPATH, value='/html/body/table[4]/tbody/tr/td[2]/a').click()"
   ]
  },
  {
   "cell_type": "code",
   "execution_count": 130,
   "id": "2a7f979d",
   "metadata": {},
   "outputs": [],
   "source": [
    "driver.switch_to.window(driver.window_handles[0])"
   ]
  },
  {
   "cell_type": "code",
   "execution_count": 101,
   "id": "21e162b9",
   "metadata": {},
   "outputs": [
    {
     "data": {
      "text/plain": [
       "'https://crmciec.hostingcrm.com.ar/index.php?module=Opportunities&action=EditView&return_module=Opportunities&return_action=DetailView'"
      ]
     },
     "execution_count": 101,
     "metadata": {},
     "output_type": "execute_result"
    }
   ],
   "source": [
    "#driver.current_url"
   ]
  },
  {
   "cell_type": "code",
   "execution_count": 131,
   "id": "430743a2",
   "metadata": {},
   "outputs": [
    {
     "data": {
      "text/plain": [
       "'https://crmciec.hostingcrm.com.ar/index.php?module=KNN_comitente&action=Popup&mode=single&create=true&field_to_name[]=name'"
      ]
     },
     "execution_count": 131,
     "metadata": {},
     "output_type": "execute_result"
    }
   ],
   "source": [
    "#Vamos a seleccionar comitente\n",
    "driver.find_element(By.ID, value=\"btn_comitente_c\").click()\n",
    "driver.switch_to.window(driver.window_handles[1])\n",
    "driver.current_url"
   ]
  },
  {
   "cell_type": "code",
   "execution_count": 132,
   "id": "4ad0f9db",
   "metadata": {},
   "outputs": [],
   "source": [
    "# Buscamos Poder Judicial\n",
    "driver.find_element(By.XPATH, value='//*[@id=\"name_advanced\"]').send_keys('PODER JUDICIAL')\n",
    "driver.find_element(By.XPATH, value='//*[@id=\"search_form_submit\"]').click()"
   ]
  },
  {
   "cell_type": "code",
   "execution_count": 133,
   "id": "6d720ca6",
   "metadata": {},
   "outputs": [],
   "source": [
    "# Seleccionamos Poder Judicial\n",
    "driver.find_element(By.XPATH, value='/html/body/table[4]/tbody/tr[2]/td[2]/a').click()"
   ]
  },
  {
   "cell_type": "code",
   "execution_count": 134,
   "id": "82f5d6f4",
   "metadata": {},
   "outputs": [],
   "source": [
    "driver.switch_to.window(driver.window_handles[0])\n",
    "#driver.current_url"
   ]
  },
  {
   "cell_type": "code",
   "execution_count": 135,
   "id": "b361a9b4",
   "metadata": {},
   "outputs": [],
   "source": [
    "#Seleccionamos Pericia Judicial\n",
    "driver.find_element(By.XPATH, value='//*[@id=\"opportunity_type\"]/option[6]').click()"
   ]
  },
  {
   "cell_type": "code",
   "execution_count": 136,
   "id": "9c49e6d3",
   "metadata": {},
   "outputs": [],
   "source": [
    "#Colocamos autos\n",
    "driver.find_element(By.ID, value=\"description\").send_keys('PER.JUD.')"
   ]
  },
  {
   "cell_type": "code",
   "execution_count": 137,
   "id": "cf7818f1",
   "metadata": {},
   "outputs": [],
   "source": [
    "driver.find_element(By.XPATH, value='//*[@id=\"SAVE\"]').click()"
   ]
  },
  {
   "cell_type": "code",
   "execution_count": 138,
   "id": "a975b0cb",
   "metadata": {},
   "outputs": [],
   "source": [
    "driver.quit()"
   ]
  }
 ],
 "metadata": {
  "kernelspec": {
   "display_name": "Python 3 (ipykernel)",
   "language": "python",
   "name": "python3"
  },
  "language_info": {
   "codemirror_mode": {
    "name": "ipython",
    "version": 3
   },
   "file_extension": ".py",
   "mimetype": "text/x-python",
   "name": "python",
   "nbconvert_exporter": "python",
   "pygments_lexer": "ipython3",
   "version": "3.10.6"
  }
 },
 "nbformat": 4,
 "nbformat_minor": 5
}
