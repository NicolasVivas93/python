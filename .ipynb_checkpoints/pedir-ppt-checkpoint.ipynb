{
 "cells": [
  {
   "cell_type": "code",
   "execution_count": 8,
   "id": "0c1524d5",
   "metadata": {},
   "outputs": [],
   "source": [
    "import time\n",
    "from selenium import webdriver\n",
    "from selenium.webdriver.chrome.options import Options as ChromeOptions\n",
    "from selenium.webdriver.common.by import By"
   ]
  },
  {
   "cell_type": "code",
   "execution_count": 10,
   "id": "43bbffc4",
   "metadata": {},
   "outputs": [
    {
     "data": {
      "text/plain": [
       "'https://a.paypertic.com/auth/realms/entidades/protocol/openid-connect/auth?client_id=16465308-1844-4abe-abe6-f184149ee740&redirect_uri=https%3A%2F%2Fentidad.paypertic.com%2F&state=2f7b7ac3-ff5d-41ad-b36a-07a138c13bfb&response_mode=fragment&response_type=code&scope=openid&nonce=713b8dc8-89e7-485b-8e0c-529ff3d110f6'"
      ]
     },
     "execution_count": 10,
     "metadata": {},
     "output_type": "execute_result"
    }
   ],
   "source": [
    "options = ChromeOptions()\n",
    "options.add_argument(\"--headless\")\n",
    "assert options.headless\n",
    "driver = webdriver.Chrome(options=options)\n",
    "driver.get(\"https://a.paypertic.com/auth/realms/entidades/protocol/openid-connect/auth?client_id=16465308-1844-4abe-abe6-f184149ee740&redirect_uri=https%3A%2F%2Fentidad.paypertic.com%2F&state=2f7b7ac3-ff5d-41ad-b36a-07a138c13bfb&response_mode=fragment&response_type=code&scope=openid&nonce=713b8dc8-89e7-485b-8e0c-529ff3d110f6\")\n",
    "driver.current_url"
   ]
  },
  {
   "cell_type": "code",
   "execution_count": 121,
   "id": "bb5dbc49",
   "metadata": {},
   "outputs": [],
   "source": [
    "usuario = driver.find_element(By.XPATH, value='//*[@id=\"username\"]').send_keys('pablo.lardelli@ciec.com.ar')\n",
    "password = driver.find_element(By.XPATH, value='//*[@id=\"password\"]').send_keys('Contabilidad2020')\n",
    "driver.find_element(By.ID, value=\"kc-login\").click()"
   ]
  },
  {
   "cell_type": "code",
   "execution_count": 122,
   "id": "64c957b1",
   "metadata": {},
   "outputs": [],
   "source": [
    "time.sleep(10)\n",
    "driver.find_element(By.XPATH, value='/html/body/app-root/app-secured/div/app-home/div/div[1]/div/app-buttons-options/div/div[3]/button/span[1]/mat-icon/app-icon/i').click()"
   ]
  },
  {
   "cell_type": "code",
   "execution_count": 123,
   "id": "51827a0c",
   "metadata": {},
   "outputs": [],
   "source": [
    "time.sleep(7)\n",
    "saldo_str = driver.find_element(By.XPATH, value='/html/body/app-root/app-secured/div/app-withdrawal/div/div[4]/div[1]/div/div[2]').text\n",
    "saldo = saldo_str[4:]\n",
    "saldo = saldo.replace('.','')\n",
    "saldo = saldo.replace(',','.')\n",
    "saldo = float(saldo)"
   ]
  },
  {
   "cell_type": "code",
   "execution_count": 124,
   "id": "9a3f3d64",
   "metadata": {},
   "outputs": [
    {
     "name": "stdout",
     "output_type": "stream",
     "text": [
      "El saldo disponible es de: $555820.58\n"
     ]
    }
   ],
   "source": [
    "print(f'El saldo disponible es de: ${saldo}')"
   ]
  },
  {
   "cell_type": "code",
   "execution_count": 125,
   "id": "51610340",
   "metadata": {},
   "outputs": [],
   "source": [
    "if saldo >= 25000:\n",
    "    driver.find_element(By.XPATH, value='/html/body/app-root/app-secured/div/app-withdrawal/div/div[2]/div[2]/button/span').click()"
   ]
  },
  {
   "cell_type": "code",
   "execution_count": 126,
   "id": "93aae796",
   "metadata": {},
   "outputs": [],
   "source": [
    "time.sleep(7)\n",
    "driver.find_element(By.XPATH, value='/html/body/app-root/app-secured/div/app-retire/div/div[2]/form/div/div[2]/mat-radio-group/mat-radio-button[2]/label/span[1]/span[2]').click()\n",
    "driver.find_element(By.XPATH, value='/html/body/app-root/app-secured/div/app-retire/div/div[2]/form/div/div[3]/div/input').send_keys('1910100455010002524914')\n",
    "driver.find_element(By.XPATH, value='/html/body/app-root/app-secured/div/app-retire/div/div[2]/form/div/div[4]/mat-checkbox/label').click()\n",
    "driver.find_element(By.XPATH, value='/html/body/app-root/app-secured/div/app-retire/div/div[2]/form/div/button').click()"
   ]
  },
  {
   "cell_type": "code",
   "execution_count": 127,
   "id": "b51bb595",
   "metadata": {},
   "outputs": [],
   "source": [
    "time.sleep(3)\n",
    "driver.find_element(By.XPATH, value='/html/body/div[3]/div[2]/div/mat-dialog-container/app-confirm-dialog/div/div[3]/button[2]').click()"
   ]
  },
  {
   "cell_type": "code",
   "execution_count": 128,
   "id": "9e7c924a",
   "metadata": {},
   "outputs": [],
   "source": [
    "time.sleep(5)\n",
    "driver.quit()"
   ]
  }
 ],
 "metadata": {
  "kernelspec": {
   "display_name": "Python 3 (ipykernel)",
   "language": "python",
   "name": "python3"
  },
  "language_info": {
   "codemirror_mode": {
    "name": "ipython",
    "version": 3
   },
   "file_extension": ".py",
   "mimetype": "text/x-python",
   "name": "python",
   "nbconvert_exporter": "python",
   "pygments_lexer": "ipython3",
   "version": "3.10.7"
  }
 },
 "nbformat": 4,
 "nbformat_minor": 5
}
