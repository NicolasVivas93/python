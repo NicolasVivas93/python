{
 "cells": [
  {
   "cell_type": "code",
   "execution_count": 1,
   "id": "0c1524d5",
   "metadata": {},
   "outputs": [],
   "source": [
    "import time\n",
    "from selenium import webdriver\n",
    "from selenium.webdriver.common.by import By"
   ]
  },
  {
   "cell_type": "code",
   "execution_count": 2,
   "id": "43bbffc4",
   "metadata": {},
   "outputs": [],
   "source": [
    "driver = webdriver.Chrome()\n",
    "driver.get(\"https://a.paypertic.com/auth/realms/entidades/protocol/openid-connect/auth?client_id=16465308-1844-4abe-abe6-f184149ee740&redirect_uri=https%3A%2F%2Fentidad.paypertic.com%2F&state=2f7b7ac3-ff5d-41ad-b36a-07a138c13bfb&response_mode=fragment&response_type=code&scope=openid&nonce=713b8dc8-89e7-485b-8e0c-529ff3d110f6\")"
   ]
  },
  {
   "cell_type": "code",
   "execution_count": 7,
   "id": "bb5dbc49",
   "metadata": {},
   "outputs": [],
   "source": [
    "usuario = driver.find_element(By.XPATH, value='//*[@id=\"username\"]').send_keys('pablo.lardelli@ciec.com.ar')\n",
    "password = driver.find_element(By.XPATH, value='//*[@id=\"password\"]').send_keys('Contabilidad2020')\n",
    "driver.find_element(By.ID, value=\"kc-login\").click()"
   ]
  },
  {
   "cell_type": "code",
   "execution_count": 10,
   "id": "64c957b1",
   "metadata": {},
   "outputs": [],
   "source": [
    "driver.find_element(By.XPATH, value='/html/body/app-root/app-secured/div/app-home/div/div[1]/div/app-buttons-options/div/div[3]/button/span[1]/mat-icon/app-icon/i').click()"
   ]
  },
  {
   "cell_type": "code",
   "execution_count": 26,
   "id": "51827a0c",
   "metadata": {},
   "outputs": [
    {
     "data": {
      "text/plain": [
       "555820.58"
      ]
     },
     "execution_count": 26,
     "metadata": {},
     "output_type": "execute_result"
    }
   ],
   "source": [
    "saldo_str = driver.find_element(By.XPATH, value='/html/body/app-root/app-secured/div/app-withdrawal/div/div[4]/div[1]/div/div[2]').text\n",
    "saldo = saldo_str[4:]\n",
    "saldo = saldo.replace('.','')\n",
    "saldo = saldo.replace(',','.')\n",
    "saldo = float(saldo)"
   ]
  },
  {
   "cell_type": "code",
   "execution_count": 27,
   "id": "9a3f3d64",
   "metadata": {},
   "outputs": [
    {
     "name": "stdout",
     "output_type": "stream",
     "text": [
      "El saldo disponible es de: $555820.58\n"
     ]
    }
   ],
   "source": [
    "print(f'El saldo disponible es de: ${saldo}')"
   ]
  },
  {
   "cell_type": "code",
   "execution_count": 36,
   "id": "51610340",
   "metadata": {},
   "outputs": [],
   "source": [
    "if saldo >= 25000:\n",
    "    driver.find_element(By.XPATH, value='/html/body/app-root/app-secured/div/app-withdrawal/div/div[2]/div[2]/button/span').click()    "
   ]
  },
  {
   "cell_type": "code",
   "execution_count": 75,
   "id": "b51bb595",
   "metadata": {},
   "outputs": [],
   "source": [
    "driver.find_element(By.XPATH, value='/html/body/app-root/app-secured/div/app-retire/div/div[2]/form/div/div[2]/mat-radio-group/mat-radio-button[2]/label/span[1]/span[2]').click()\n",
    "driver.find_element(By.XPATH, value='//*[@id=\"mat-input-4\"]').send_keys('1910100455010002524914')\n",
    "driver.find_element(By.XPATH, value='//*[@id=\"mat-checkbox-3\"]/label').click()\n",
    "driver.find_element(By.XPATH, value='/html/body/app-root/app-secured/div/app-retire/div/div[2]/form/div/button').click()"
   ]
  },
  {
   "cell_type": "code",
   "execution_count": null,
   "id": "3a8691ae",
   "metadata": {},
   "outputs": [],
   "source": [
    "time.sleep(5)\n",
    "driver.quit()"
   ]
  }
 ],
 "metadata": {
  "kernelspec": {
   "display_name": "Python 3 (ipykernel)",
   "language": "python",
   "name": "python3"
  },
  "language_info": {
   "codemirror_mode": {
    "name": "ipython",
    "version": 3
   },
   "file_extension": ".py",
   "mimetype": "text/x-python",
   "name": "python",
   "nbconvert_exporter": "python",
   "pygments_lexer": "ipython3",
   "version": "3.10.7"
  }
 },
 "nbformat": 4,
 "nbformat_minor": 5
}
